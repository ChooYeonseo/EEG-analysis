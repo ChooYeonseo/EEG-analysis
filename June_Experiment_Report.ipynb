{
 "cells": [
  {
   "cell_type": "markdown",
   "id": "a1b0c85c",
   "metadata": {},
   "source": [
    "# EEG Analysis - Experiment 1 using EEG 1.0 device\n",
    "\n",
    "**Experiment Outline**: The EEG data has been measured for 21days. For 11 days, it was monitor for the usage of system consistency and for the next 1 week, pilocarpine was injected to monitor if there were sever difference during seizuring episodes. \n",
    "\n",
    "The EEG device we used was manufacture as following:\n",
    "\n",
    "![EEG Device 1.0](./img/device1.0.png) ![Intan pin](./img/intan_pin.png)\n",
    "\n",
    "## Pin Mapping Configuration\n",
    "\n",
    "| Pin | Input | Pin | Input | Pin | Input | Pin | Input |\n",
    "|-----|-------|-----|-------|-----|-------|-----|-------|\n",
    "| **1**   | **in11**  | **5**   | **in23**  | **9**   | **in12**  | 13  | in16  |\n",
    "| **2**   | **in10**  | **6**   | **in22**  | 10  | in13  | 14  | in17  |\n",
    "| **3**   | **in9**   | **7**   | **in21**  | 11  | in14  | 15  | in18  |\n",
    "| **4**   | **in8**   | 8   | in20  | 12  | in15  | 16  | in19  |"
   ]
  },
  {
   "cell_type": "code",
   "execution_count": 1,
   "id": "ec269019",
   "metadata": {},
   "outputs": [
    {
     "name": "stdout",
     "output_type": "stream",
     "text": [
      "Successfully imported RHD utilities\n",
      "Successfully imported RHD utilities\n"
     ]
    },
    {
     "data": {
      "text/plain": [
       "<module 'utils.read_intan' from 'c:\\\\Users\\\\user\\\\sean\\\\EEG-analysis\\\\utils\\\\read_intan.py'>"
      ]
     },
     "execution_count": 1,
     "metadata": {},
     "output_type": "execute_result"
    }
   ],
   "source": [
    "import os\n",
    "import importlib\n",
    "\n",
    "from utils import read_intan as ri\n",
    "importlib.reload(ri)\n"
   ]
  },
  {
   "cell_type": "code",
   "execution_count": 2,
   "id": "1733128a",
   "metadata": {},
   "outputs": [],
   "source": [
    "raw_path = './data/intan/attempt1/d0_1'\n",
    "npz_path = './data/compressed/attempt1'\n",
    "exp_name = raw_path.split('/')[-1]"
   ]
  },
  {
   "cell_type": "code",
   "execution_count": null,
   "id": "1f723214",
   "metadata": {},
   "outputs": [
    {
     "name": "stdout",
     "output_type": "stream",
     "text": [
      "No compressed data found. Processing raw data from ./data/intan/attempt1/d0_1\n",
      "Step 1: Converting RHD files to DataFrame...\n",
      "Found 5 RHD files in ./data/intan/attempt1/d0_1\n",
      "Successfully loaded data from during surgery_250609_132716.rhd\n",
      "Successfully loaded data from during surgery_250609_133216.rhd\n",
      "Successfully loaded data from during surgery_250609_133716.rhd\n",
      "Successfully loaded data from during surgery_250609_134216.rhd\n",
      "Successfully loaded data from during surgery_250609_134716.rhd\n",
      "checkmark\n",
      "Processing 5 files with 8 channels\n",
      "Channels: ['B-008', 'B-009', 'B-010', 'B-011', 'B-012', 'B-021', 'B-022', 'B-023']\n",
      "Concatenating data from all files...\n",
      "Successfully created DataFrame with 28219264 samples and 8 channels\n",
      "Total recording duration: 1410.96 seconds\n",
      "\n",
      "Step 2: Converting to numpy and saving...\n",
      "Converting DataFrame to numpy arrays...\n",
      "  - time: shape (28219264,), dtype float64\n",
      "  - B-008: shape (28219264,), dtype float64\n",
      "  - B-009: shape (28219264,), dtype float64\n",
      "  - B-010: shape (28219264,), dtype float64\n",
      "  - B-011: shape (28219264,), dtype float64\n",
      "  - B-012: shape (28219264,), dtype float64\n",
      "  - B-021: shape (28219264,), dtype float64\n",
      "  - B-022: shape (28219264,), dtype float64\n",
      "  - B-023: shape (28219264,), dtype float64\n",
      "✓ Saved as compressed numpy archive: ./data/compressed/attempt1\\d0_1.npz\n",
      "✓ Saved metadata: ./data/compressed/attempt1\\d0_1_metadata.json\n",
      "\n",
      "🎉 Successfully saved experiment data!\n",
      "   - Numpy data: ./data/compressed/attempt1\\d0_1.npz\n",
      "   - Metadata: ./data/compressed/attempt1\\d0_1_metadata.json\n",
      "   - Shape: (28219264, 9)\n",
      "   - Duration: 1410.96 seconds\n",
      "✓ Loaded metadata: ./data/compressed/attempt1\\d0_1_metadata.json\n",
      "✓ Successfully loaded experiment data: (28219264, 9)\n",
      "checkpoint\n",
      "\n",
      "📊 Data Summary:\n",
      "   Type: DataFrame\n",
      "   Shape: (28219264, 9)\n",
      "   Columns: ['time', 'B-008', 'B-009', 'B-010', 'B-011', 'B-012', 'B-021', 'B-022', 'B-023']\n",
      "   Duration: 1410.96 seconds\n"
     ]
    }
   ],
   "source": [
    "# Check if compressed data exists, if not create it from raw data\n",
    "npz_file = f\"{npz_path}/{exp_name}.npz\"\n",
    "metadata_file = f\"{npz_path}/{exp_name}_metadata.json\"\n",
    "\n",
    "if os.path.exists(npz_file):\n",
    "    print(f\"Loading existing compressed data from {npz_file}\")\n",
    "    \n",
    "    # Use the consolidated load function if metadata exists\n",
    "    if os.path.exists(metadata_file):\n",
    "        data, metadata = ri.load_experiment_numpy(npz_file, metadata_file)\n",
    "    else:\n",
    "        numpy_data = ri.load_numpy_data(npz_file)\n",
    "        data = ri.numpy_to_dataframe(numpy_data)\n",
    "        metadata = {'total_duration': 'unknown'}\n",
    "        print(f\"✓ Loaded data: {data.shape}\")\n",
    "        \n",
    "else:\n",
    "    print(f\"No compressed data found. Processing raw data from {raw_path}\")\n",
    "    output_paths = ri.save_experiment_numpy(raw_path, npz_path)\n",
    "    \n",
    "    # Load the data that was just saved\n",
    "    data, metadata = ri.load_experiment_numpy(output_paths['numpy_data'], output_paths['metadata'])\n",
    "    \n",
    "print(f\"\\n📊 Data Summary:\")\n",
    "print(f\"   Type: {type(data).__name__}\")\n",
    "print(f\"   Shape: {data.shape}\")\n",
    "print(f\"   Columns: {list(data.columns)}\")\n",
    "if 'total_duration' in metadata and metadata['total_duration'] != 'unknown':\n",
    "    print(f\"   Duration: {metadata['total_duration']:.2f} seconds\")"
   ]
  },
  {
   "cell_type": "code",
   "execution_count": 4,
   "id": "50ad0b98",
   "metadata": {},
   "outputs": [
    {
     "name": "stdout",
     "output_type": "stream",
     "text": [
      "✓ Data processing complete!\n",
      "✓ Compressed file saved: ./data/compressed/attempt1.npz\n",
      "✓ Data shape: (28219264, 9)\n"
     ]
    }
   ],
   "source": [
    "# Data processing completed successfully\n",
    "# The compressed data has been saved to: ./data/compressed/attempt1.npz\n",
    "print(f\"✓ Data processing complete!\")\n",
    "print(f\"✓ Compressed file saved: {npz_path}.npz\")\n",
    "print(f\"✓ Data shape: {data.shape}\")"
   ]
  },
  {
   "cell_type": "code",
   "execution_count": 6,
   "id": "ff100a49",
   "metadata": {},
   "outputs": [
    {
     "data": {
      "application/vnd.microsoft.datawrangler.viewer.v0+json": {
       "columns": [
        {
         "name": "index",
         "rawType": "int64",
         "type": "integer"
        },
        {
         "name": "time",
         "rawType": "float64",
         "type": "float"
        },
        {
         "name": "B-008",
         "rawType": "float64",
         "type": "float"
        },
        {
         "name": "B-009",
         "rawType": "float64",
         "type": "float"
        },
        {
         "name": "B-010",
         "rawType": "float64",
         "type": "float"
        },
        {
         "name": "B-011",
         "rawType": "float64",
         "type": "float"
        },
        {
         "name": "B-012",
         "rawType": "float64",
         "type": "float"
        },
        {
         "name": "B-021",
         "rawType": "float64",
         "type": "float"
        },
        {
         "name": "B-022",
         "rawType": "float64",
         "type": "float"
        },
        {
         "name": "B-023",
         "rawType": "float64",
         "type": "float"
        }
       ],
       "ref": "1cf9cb63-cbf4-45b2-9060-8c2615cc1c3d",
       "rows": [
        [
         "0",
         "0.0",
         "-17.909775",
         "-160.19932500000002",
         "-9.544275",
         "-23.955750000000002",
         "-52.892775",
         "-32.47335",
         "-38.975625",
         "-35.173125"
        ],
        [
         "1",
         "5e-05",
         "-51.44782500000001",
         "-188.83215",
         "-38.899575000000006",
         "-50.154975",
         "-77.8752",
         "-38.443275",
         "-44.03295",
         "-33.423975"
        ],
        [
         "2",
         "0.0001",
         "-33.69015",
         "-172.975725",
         "-22.776975000000004",
         "-35.4393",
         "-62.0568",
         "-28.556775",
         "-33.728175",
         "-26.199225000000006"
        ],
        [
         "3",
         "0.00015000000000000001",
         "-33.423975",
         "-174.040425",
         "-23.499450000000003",
         "-36.27585",
         "-64.49040000000001",
         "-29.27925",
         "-34.260525",
         "-26.655525"
        ],
        [
         "4",
         "0.0002",
         "-33.271875",
         "-172.70955",
         "-23.385375",
         "-35.477325",
         "-60.99210000000001",
         "-27.948375000000006",
         "-32.7015",
         "-25.248600000000003"
        ],
        [
         "5",
         "0.00025",
         "-33.1578",
         "-171.22657500000003",
         "-22.776975000000004",
         "-35.05905",
         "-60.801975000000006",
         "-27.872325",
         "-31.636800000000004",
         "-25.17255"
        ],
        [
         "6",
         "0.00030000000000000003",
         "-32.62545",
         "-170.6562",
         "-22.396725",
         "-34.45065",
         "-60.573825",
         "-27.60615",
         "-32.47335",
         "-23.65155"
        ],
        [
         "7",
         "0.00035",
         "-32.207175",
         "-169.28730000000002",
         "-22.358700000000002",
         "-34.716825",
         "-60.383700000000005",
         "-27.6822",
         "-32.359275",
         "-24.7923"
        ],
        [
         "8",
         "0.0004",
         "-32.777550000000005",
         "-169.36335000000003",
         "-22.282650000000004",
         "-34.184475",
         "-60.193575",
         "-27.263925",
         "-32.283225",
         "-24.716250000000002"
        ],
        [
         "9",
         "0.00045000000000000004",
         "-32.7015",
         "-168.945075",
         "-22.2066",
         "-33.9183",
         "-59.965424999999996",
         "-27.301949999999998",
         "-32.245200000000004",
         "-24.4881"
        ]
       ],
       "shape": {
        "columns": 9,
        "rows": 10
       }
      },
      "text/html": [
       "<div>\n",
       "<style scoped>\n",
       "    .dataframe tbody tr th:only-of-type {\n",
       "        vertical-align: middle;\n",
       "    }\n",
       "\n",
       "    .dataframe tbody tr th {\n",
       "        vertical-align: top;\n",
       "    }\n",
       "\n",
       "    .dataframe thead th {\n",
       "        text-align: right;\n",
       "    }\n",
       "</style>\n",
       "<table border=\"1\" class=\"dataframe\">\n",
       "  <thead>\n",
       "    <tr style=\"text-align: right;\">\n",
       "      <th></th>\n",
       "      <th>time</th>\n",
       "      <th>B-008</th>\n",
       "      <th>B-009</th>\n",
       "      <th>B-010</th>\n",
       "      <th>B-011</th>\n",
       "      <th>B-012</th>\n",
       "      <th>B-021</th>\n",
       "      <th>B-022</th>\n",
       "      <th>B-023</th>\n",
       "    </tr>\n",
       "  </thead>\n",
       "  <tbody>\n",
       "    <tr>\n",
       "      <th>0</th>\n",
       "      <td>0.00000</td>\n",
       "      <td>-17.909775</td>\n",
       "      <td>-160.199325</td>\n",
       "      <td>-9.544275</td>\n",
       "      <td>-23.955750</td>\n",
       "      <td>-52.892775</td>\n",
       "      <td>-32.473350</td>\n",
       "      <td>-38.975625</td>\n",
       "      <td>-35.173125</td>\n",
       "    </tr>\n",
       "    <tr>\n",
       "      <th>1</th>\n",
       "      <td>0.00005</td>\n",
       "      <td>-51.447825</td>\n",
       "      <td>-188.832150</td>\n",
       "      <td>-38.899575</td>\n",
       "      <td>-50.154975</td>\n",
       "      <td>-77.875200</td>\n",
       "      <td>-38.443275</td>\n",
       "      <td>-44.032950</td>\n",
       "      <td>-33.423975</td>\n",
       "    </tr>\n",
       "    <tr>\n",
       "      <th>2</th>\n",
       "      <td>0.00010</td>\n",
       "      <td>-33.690150</td>\n",
       "      <td>-172.975725</td>\n",
       "      <td>-22.776975</td>\n",
       "      <td>-35.439300</td>\n",
       "      <td>-62.056800</td>\n",
       "      <td>-28.556775</td>\n",
       "      <td>-33.728175</td>\n",
       "      <td>-26.199225</td>\n",
       "    </tr>\n",
       "    <tr>\n",
       "      <th>3</th>\n",
       "      <td>0.00015</td>\n",
       "      <td>-33.423975</td>\n",
       "      <td>-174.040425</td>\n",
       "      <td>-23.499450</td>\n",
       "      <td>-36.275850</td>\n",
       "      <td>-64.490400</td>\n",
       "      <td>-29.279250</td>\n",
       "      <td>-34.260525</td>\n",
       "      <td>-26.655525</td>\n",
       "    </tr>\n",
       "    <tr>\n",
       "      <th>4</th>\n",
       "      <td>0.00020</td>\n",
       "      <td>-33.271875</td>\n",
       "      <td>-172.709550</td>\n",
       "      <td>-23.385375</td>\n",
       "      <td>-35.477325</td>\n",
       "      <td>-60.992100</td>\n",
       "      <td>-27.948375</td>\n",
       "      <td>-32.701500</td>\n",
       "      <td>-25.248600</td>\n",
       "    </tr>\n",
       "    <tr>\n",
       "      <th>5</th>\n",
       "      <td>0.00025</td>\n",
       "      <td>-33.157800</td>\n",
       "      <td>-171.226575</td>\n",
       "      <td>-22.776975</td>\n",
       "      <td>-35.059050</td>\n",
       "      <td>-60.801975</td>\n",
       "      <td>-27.872325</td>\n",
       "      <td>-31.636800</td>\n",
       "      <td>-25.172550</td>\n",
       "    </tr>\n",
       "    <tr>\n",
       "      <th>6</th>\n",
       "      <td>0.00030</td>\n",
       "      <td>-32.625450</td>\n",
       "      <td>-170.656200</td>\n",
       "      <td>-22.396725</td>\n",
       "      <td>-34.450650</td>\n",
       "      <td>-60.573825</td>\n",
       "      <td>-27.606150</td>\n",
       "      <td>-32.473350</td>\n",
       "      <td>-23.651550</td>\n",
       "    </tr>\n",
       "    <tr>\n",
       "      <th>7</th>\n",
       "      <td>0.00035</td>\n",
       "      <td>-32.207175</td>\n",
       "      <td>-169.287300</td>\n",
       "      <td>-22.358700</td>\n",
       "      <td>-34.716825</td>\n",
       "      <td>-60.383700</td>\n",
       "      <td>-27.682200</td>\n",
       "      <td>-32.359275</td>\n",
       "      <td>-24.792300</td>\n",
       "    </tr>\n",
       "    <tr>\n",
       "      <th>8</th>\n",
       "      <td>0.00040</td>\n",
       "      <td>-32.777550</td>\n",
       "      <td>-169.363350</td>\n",
       "      <td>-22.282650</td>\n",
       "      <td>-34.184475</td>\n",
       "      <td>-60.193575</td>\n",
       "      <td>-27.263925</td>\n",
       "      <td>-32.283225</td>\n",
       "      <td>-24.716250</td>\n",
       "    </tr>\n",
       "    <tr>\n",
       "      <th>9</th>\n",
       "      <td>0.00045</td>\n",
       "      <td>-32.701500</td>\n",
       "      <td>-168.945075</td>\n",
       "      <td>-22.206600</td>\n",
       "      <td>-33.918300</td>\n",
       "      <td>-59.965425</td>\n",
       "      <td>-27.301950</td>\n",
       "      <td>-32.245200</td>\n",
       "      <td>-24.488100</td>\n",
       "    </tr>\n",
       "  </tbody>\n",
       "</table>\n",
       "</div>"
      ],
      "text/plain": [
       "      time      B-008       B-009      B-010      B-011      B-012      B-021  \\\n",
       "0  0.00000 -17.909775 -160.199325  -9.544275 -23.955750 -52.892775 -32.473350   \n",
       "1  0.00005 -51.447825 -188.832150 -38.899575 -50.154975 -77.875200 -38.443275   \n",
       "2  0.00010 -33.690150 -172.975725 -22.776975 -35.439300 -62.056800 -28.556775   \n",
       "3  0.00015 -33.423975 -174.040425 -23.499450 -36.275850 -64.490400 -29.279250   \n",
       "4  0.00020 -33.271875 -172.709550 -23.385375 -35.477325 -60.992100 -27.948375   \n",
       "5  0.00025 -33.157800 -171.226575 -22.776975 -35.059050 -60.801975 -27.872325   \n",
       "6  0.00030 -32.625450 -170.656200 -22.396725 -34.450650 -60.573825 -27.606150   \n",
       "7  0.00035 -32.207175 -169.287300 -22.358700 -34.716825 -60.383700 -27.682200   \n",
       "8  0.00040 -32.777550 -169.363350 -22.282650 -34.184475 -60.193575 -27.263925   \n",
       "9  0.00045 -32.701500 -168.945075 -22.206600 -33.918300 -59.965425 -27.301950   \n",
       "\n",
       "       B-022      B-023  \n",
       "0 -38.975625 -35.173125  \n",
       "1 -44.032950 -33.423975  \n",
       "2 -33.728175 -26.199225  \n",
       "3 -34.260525 -26.655525  \n",
       "4 -32.701500 -25.248600  \n",
       "5 -31.636800 -25.172550  \n",
       "6 -32.473350 -23.651550  \n",
       "7 -32.359275 -24.792300  \n",
       "8 -32.283225 -24.716250  \n",
       "9 -32.245200 -24.488100  "
      ]
     },
     "execution_count": 6,
     "metadata": {},
     "output_type": "execute_result"
    }
   ],
   "source": [
    "data.head(10)  # Display the first 5 rows of the DataFrame for verification"
   ]
  }
 ],
 "metadata": {
  "kernelspec": {
   "display_name": "eeg",
   "language": "python",
   "name": "python3"
  },
  "language_info": {
   "codemirror_mode": {
    "name": "ipython",
    "version": 3
   },
   "file_extension": ".py",
   "mimetype": "text/x-python",
   "name": "python",
   "nbconvert_exporter": "python",
   "pygments_lexer": "ipython3",
   "version": "3.12.11"
  }
 },
 "nbformat": 4,
 "nbformat_minor": 5
}
